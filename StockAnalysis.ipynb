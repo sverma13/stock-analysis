{
 "cells": [
  {
   "cell_type": "markdown",
   "metadata": {},
   "source": [
    "Load libraries."
   ]
  },
  {
   "cell_type": "code",
   "execution_count": 1,
   "metadata": {},
   "outputs": [],
   "source": [
    "# Data analysis libraries\n",
    "import pandas as pd\n",
    "import numpy as np\n",
    "\n",
    "# Statistical analysis libraries\n",
    "from scipy import stats\n",
    "from scipy.stats import skew\n",
    "from scipy.stats import kurtosis\n",
    "\n",
    "# SQLite capability libraries\n",
    "import sqlite3\n",
    "from sqlite3 import Error\n",
    "\n",
    "# Data visualization libraries\n",
    "import matplotlib.pyplot as plt\n",
    "import seaborn as sns"
   ]
  },
  {
   "cell_type": "markdown",
   "metadata": {},
   "source": [
    "Function: create connection to SQLite databas"
   ]
  },
  {
   "cell_type": "code",
   "execution_count": 2,
   "metadata": {},
   "outputs": [],
   "source": [
    "def createConnection(db_file):\n",
    "    conn = None\n",
    "    try:\n",
    "        conn = sqlite3.connect(db_file)\n",
    "    except Error:\n",
    "        print(Error)\n",
    "    return conn"
   ]
  },
  {
   "cell_type": "markdown",
   "metadata": {},
   "source": [
    "Function: connect to SQLite database"
   ]
  },
  {
   "cell_type": "code",
   "execution_count": 3,
   "metadata": {},
   "outputs": [],
   "source": [
    "def sqlConnect():\n",
    "    try:\n",
    "        conn = sqlite3.connect(':memory:')\n",
    "        print('Connection is established: Database is created in memory')\n",
    "    except Error:\n",
    "        print(Error)\n",
    "    return conn"
   ]
  },
  {
   "cell_type": "markdown",
   "metadata": {},
   "source": [
    "Function: insert a row of historical stock data in the SQLite table"
   ]
  },
  {
   "cell_type": "code",
   "execution_count": 4,
   "metadata": {},
   "outputs": [],
   "source": [
    "def sqlInsert(conn, entities):\n",
    "    cursor = con.cursor()\n",
    "    cursor.execute('INSERT INTO stocks(ticker, avg_annual_return,'\n",
    "                   'annual_volatility, skew, kurtosis) VALUES(?,?,?,?,?)',\n",
    "                   entities)\n",
    "    con.commit()\n",
    "    return"
   ]
  },
  {
   "cell_type": "markdown",
   "metadata": {},
   "source": [
    "Compute statistical measures (standard deviation, skew, kurtosis) for each stock"
   ]
  },
  {
   "cell_type": "code",
   "execution_count": 5,
   "metadata": {},
   "outputs": [],
   "source": [
    "def stockAnalysis(ticker):\n",
    "    tickerFile = ticker + '.csv'\n",
    "    data = pd.read_csv(tickerFile, parse_dates=['Date'])\n",
    "    data = data.sort_values(by='Date')\n",
    "    data.set_index('Date', inplace=True)\n",
    "\n",
    "    data['Returns'] = data['Adj Close'].pct_change()  # create a column of daily returns\n",
    "    returns = data['Returns'].dropna()  # remove entries with N/A data\n",
    "\n",
    "    # Statistical stock data based on daily returns\n",
    "    avgDailyReturn = np.mean(returns)\n",
    "    avgAnnualReturn = ((1 + avgDailyReturn) ** 252) - 1\n",
    "    stdDev = np.std(returns)\n",
    "    annualVolatility = stdDev * np.sqrt(252)\n",
    "    stockSkew = skew(returns)\n",
    "    stockKurtosis = kurtosis(returns)\n",
    "\n",
    "    stockRetMat[ticker] = returns\n",
    "\n",
    "    # Stock data to be inserted into database table\n",
    "    dataEntry = (ticker, avgAnnualReturn, annualVolatility, stockSkew,\n",
    "                 stockKurtosis)\n",
    "\n",
    "    return dataEntry"
   ]
  },
  {
   "cell_type": "markdown",
   "metadata": {},
   "source": [
    "List tickers of securities in portfolio"
   ]
  },
  {
   "cell_type": "code",
   "execution_count": 6,
   "metadata": {},
   "outputs": [],
   "source": [
    "stockPort = ['AAPL', 'AMZN', 'FB', 'GE', 'JPM', 'MSFT', 'TSLA', 'V']"
   ]
  },
  {
   "cell_type": "markdown",
   "metadata": {},
   "source": [
    "Connect to SQLite database"
   ]
  },
  {
   "cell_type": "code",
   "execution_count": 7,
   "metadata": {},
   "outputs": [
    {
     "name": "stdout",
     "output_type": "stream",
     "text": [
      "Connection is established: Database is created in memory\n"
     ]
    },
    {
     "data": {
      "text/plain": [
       "<sqlite3.Connection at 0x1a13a88730>"
      ]
     },
     "execution_count": 7,
     "metadata": {},
     "output_type": "execute_result"
    }
   ],
   "source": [
    "con = createConnection('mydatabase.db')\n",
    "cursor = con.cursor()\n",
    "sqlConnect()"
   ]
  },
  {
   "cell_type": "markdown",
   "metadata": {},
   "source": [
    "Create SQLite table"
   ]
  },
  {
   "cell_type": "code",
   "execution_count": 8,
   "metadata": {},
   "outputs": [],
   "source": [
    "cursor.execute('CREATE TABLE stocks(ticker text PRIMARY KEY,'\n",
    "               'avg_annual_return real, annual_volatility real, skew real,'\n",
    "               'kurtosis real)')\n",
    "con.commit()"
   ]
  },
  {
   "cell_type": "markdown",
   "metadata": {},
   "source": [
    "Create empty dataframe of daily stock returns matrix"
   ]
  },
  {
   "cell_type": "code",
   "execution_count": 9,
   "metadata": {},
   "outputs": [],
   "source": [
    "stockRetMat = pd.DataFrame(columns=stockPort)"
   ]
  },
  {
   "cell_type": "markdown",
   "metadata": {},
   "source": [
    "For every stock ticker in portfolio, perform stock analysis and load the results in the SQLite table"
   ]
  },
  {
   "cell_type": "code",
   "execution_count": 10,
   "metadata": {},
   "outputs": [],
   "source": [
    "for stock in stockPort:\n",
    "    stockData = stockAnalysis(stock)\n",
    "    sqlInsert(con, stockData)"
   ]
  },
  {
   "cell_type": "markdown",
   "metadata": {},
   "source": [
    "Generate a correlation matrix of the stock returns using the Pearson method"
   ]
  },
  {
   "cell_type": "code",
   "execution_count": 11,
   "metadata": {},
   "outputs": [
    {
     "data": {
      "image/png": "[encoded data removed]",
      "text/plain": [
       "<Figure size 648x648 with 2 Axes>"
      ]
     },
     "metadata": {
      "needs_background": "light"
     },
     "output_type": "display_data"
    }
   ],
   "source": [
    "corrMatrix = stockRetMat.corr(method='pearson')\n",
    "fig, ax = plt.subplots(figsize=(9, 9))\n",
    "sns.heatmap(data=corrMatrix,\n",
    "            cmap='RdYlGn',\n",
    "            annot=True,\n",
    "            fmt='.2f'\n",
    "            )\n",
    "plt.show()"
   ]
  },
  {
   "cell_type": "markdown",
   "metadata": {},
   "source": [
    "Print all rows in the SQLite table"
   ]
  },
  {
   "cell_type": "code",
   "execution_count": 12,
   "metadata": {},
   "outputs": [
    {
     "name": "stdout",
     "output_type": "stream",
     "text": [
      "('AAPL', 0.2843880091605899, 0.2483687196253576, -0.23895112411169017, 3.794429660323237)\n",
      "('AMZN', 0.5009879901932761, 0.2924922411616182, 1.0226246758258493, 9.88184992627834)\n",
      "('FB', 0.26755699483296813, 0.2821226282079576, -0.4299825567330655, 17.247869660387376)\n",
      "('GE', -0.06376913129104889, 0.2996679502686821, 0.4412057257955848, 6.560879702066153)\n",
      "('JPM', 0.23539347321334425, 0.20987925788838374, 0.03533003592922064, 3.1822813202553366)\n",
      "('MSFT', 0.3442696484246921, 0.2330742360552858, 0.28831241784631756, 7.121003829179983)\n",
      "('TSLA', 0.2655243826669329, 0.4492485748297106, 0.28941197240031374, 5.125252079527762)\n",
      "('V', 0.27310613337615064, 0.20406985900356883, -0.007403278531559054, 3.3742718248537162)\n"
     ]
    }
   ],
   "source": [
    "cursor.execute('SELECT * FROM stocks')\n",
    "rows = cursor.fetchall()\n",
    "for row in rows:\n",
    "    print(row)"
   ]
  }
 ],
 "metadata": {
  "kernelspec": {
   "display_name": "Python 3",
   "language": "python",
   "name": "python3"
  },
  "language_info": {
   "codemirror_mode": {
    "name": "ipython",
    "version": 3
   },
   "file_extension": ".py",
   "mimetype": "text/x-python",
   "name": "python",
   "nbconvert_exporter": "python",
   "pygments_lexer": "ipython3",
   "version": "3.7.4"
  }
 },
 "nbformat": 4,
 "nbformat_minor": 2
}
